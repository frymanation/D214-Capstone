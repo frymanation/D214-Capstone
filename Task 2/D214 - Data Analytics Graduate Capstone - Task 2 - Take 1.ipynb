{
 "cells": [
  {
   "cell_type": "markdown",
   "id": "fd871560",
   "metadata": {},
   "source": [
    "<center><h2>D214 - Task 2 - Data Analytics Report and Executive Summary</h2>\n",
    "Jonathon \"Jon\" Fryman <br>\n",
    "Data Analytics 01/01/2022<br>\n",
    "Student ID 00974544<br>\n",
    "Program Mentor: Lea Yoakem<br>\n",
    "C: 419-206-6989<br>\n",
    "jfryma1@wgu.edu</center>"
   ]
  },
  {
   "cell_type": "markdown",
   "id": "a01a3f9b",
   "metadata": {},
   "source": [
    "<center><h2>Research Question</h2></center>"
   ]
  },
  {
   "cell_type": "markdown",
   "id": "bab3b6de",
   "metadata": {},
   "source": [
    "<h3>A.  Summarize the original real-data research question you identified in task 1. Your summary should include justification for the research question you identified in task 1, a description of the context in which the research question exists, and a discussion of your hypothesis.</h3>"
   ]
  },
  {
   "cell_type": "markdown",
   "id": "f936ca38",
   "metadata": {},
   "source": [
    "<center><h4>Original Research Question</h4></center>\n",
    "\n",
    "To what extent can a company’s future daily per-share closing stock dollar value be accurately forecast?"
   ]
  },
  {
   "cell_type": "markdown",
   "id": "8742f7c1",
   "metadata": {},
   "source": [
    "<center><h4>Research Question Justification</h4></center>"
   ]
  },
  {
   "cell_type": "markdown",
   "id": "9e5961dc",
   "metadata": {},
   "source": [
    "The justification for the outlined research question is as follows"
   ]
  },
  {
   "cell_type": "markdown",
   "id": "4239ab20",
   "metadata": {},
   "source": [
    "<center><h4>Description of Context for Research Question</h4></center>"
   ]
  },
  {
   "cell_type": "markdown",
   "id": "61191f0c",
   "metadata": {},
   "source": [
    "The context for the outlined research question is as follows"
   ]
  },
  {
   "cell_type": "markdown",
   "id": "e2afc8b4",
   "metadata": {},
   "source": [
    "<center><h4>Hypothesis Discussion</h4></center>"
   ]
  },
  {
   "cell_type": "markdown",
   "id": "2bb12464",
   "metadata": {},
   "source": [
    "The hypothesis of this research project is that the performance of a specific subset of 14 tech companies market performance can be accurately forcast by training on historical performance and validating the accuracy of the forecast by generating a forecast and comparing to a subset of the historical dataset aside for validation."
   ]
  },
  {
   "cell_type": "markdown",
   "id": "157de723",
   "metadata": {},
   "source": [
    "<center><h2>Data Collection</h2></center>"
   ]
  },
  {
   "cell_type": "markdown",
   "id": "24b7919e",
   "metadata": {},
   "source": [
    "<h3>B.  Report on your data-collection process by describing the relevant data you collected, discussing one advantage and one disadvantage of the data-gathering methodology you used, and discussing how you overcame any challenges you encountered during the process of collecting your data.</h3>"
   ]
  },
  {
   "cell_type": "markdown",
   "id": "619e65ca",
   "metadata": {},
   "source": [
    "The data used to further analysis the previously proposed research question is publicly available at https://www.kaggle.com/datasets/evangower/big-tech-stock-prices. \n",
    "\n",
    "The full dataset consists of 14 unique csv files. Each file is associated with a specific tech companies stock performance for trading days beginning in 2010. The comanies included for analysis are:\n",
    "<ul>\n",
    "    <li>Adobe</li>\n",
    "    <li>Amazon</li>\n",
    "    <li>Apple</li>\n",
    "    <li>Cisco</li>\n",
    "    <li>Google</li>\n",
    "    <li>IBM</li>\n",
    "    <li>Intel</li>\n",
    "    <li>Meta</li>\n",
    "    <li>Microsoft</li>\n",
    "    <li>Netflix</li>\n",
    "    <li>Oracle</li>\n",
    "    <li>Salesforce</li>\n",
    "    <li>Tesla</li>\n",
    "</ul>\n",
    "\n",
    "\n",
    "\n",
    "\n",
    "These columns contained within each of the individual csv files are:\n",
    "\n",
    "<ul>\n",
    "    <li>Date</li>\n",
    "    <li>Open</li>\n",
    "    <li>High</li>\n",
    "    <li>Low</li>\n",
    "    <li>Close</li>\n",
    "    <li>Adj Close</li>\n",
    "    <li>Volume</li>\n",
    "</ul>\n",
    "\n",
    "The data being used for this analysis is provided under a CC0 1.0 Universal Public Domain Dedication license that allows users to share and adapt the data with proper credit given to the original data provider\n",
    "\n",
    "Data Gathering: The data-gathering methodology to be used for this analysis is documents and records. This methodology consists of examining existing data. For this specific analysis, this includes examining existing records related to historical stock prices for 14 tech companies over a period beginning in 2010. This includes historical open and close prices, and overall volume."
   ]
  },
  {
   "cell_type": "markdown",
   "id": "09acc897",
   "metadata": {},
   "source": [
    "<center><h4>Advantage of Data-Gathering Methodology</h4></center>"
   ]
  },
  {
   "cell_type": "markdown",
   "id": "f1b43dba",
   "metadata": {},
   "source": [
    "Utilizing a CC0 1.0 Public Licensed Dataset has a multitude of advantages."
   ]
  },
  {
   "cell_type": "markdown",
   "id": "c6c7aa9b",
   "metadata": {},
   "source": [
    "<center><h4>Disadvantage of Data-Gathering Methodology</h4></center>"
   ]
  },
  {
   "cell_type": "markdown",
   "id": "162856c4",
   "metadata": {},
   "source": [
    "A general disadvantage for this analysis was utilizing a public dataset that had preselectedvariables and observation period."
   ]
  },
  {
   "cell_type": "markdown",
   "id": "39fca360",
   "metadata": {},
   "source": [
    "<center><h4>Challenges</h4></center>"
   ]
  },
  {
   "cell_type": "markdown",
   "id": "e31f77a3",
   "metadata": {},
   "source": [
    "One of the challenges with using the previously mentioned public dataset was ensuring thedata was properly cleaned and prepared to facilitate as complete an answer to the statedresearch question."
   ]
  },
  {
   "cell_type": "markdown",
   "id": "a64191ba",
   "metadata": {},
   "source": [
    "<center><h2>Data Extraction and Preparation</h2></center>"
   ]
  },
  {
   "cell_type": "markdown",
   "id": "a46c4f83",
   "metadata": {},
   "source": [
    "<h3>C.  Describe your data-extraction and -preparation process and provide screenshots to illustrate each step. Explain the tools and techniques you used for data extraction and data preparation, including how these tools and techniques were used on the data. Justify why you used these particular tools and techniques, including one advantage and one disadvantage when they are used with your data-extraction and -preparation methods. </h3>\n",
    "\n",
    "For this report, the primary data analytic technique to be used is a time series analysis. Time series analysis is a method of analyzing a sequence of data points collected over consistent internals of time. This analysis technique allows insight into how specific variables change over time. \n",
    "\n",
    "Time Series analysis requires many data points to ensure consistency and reliability. Ensuring that there is sufficient data helps ensure that any trends or patterns identified are not outliers and can account for seasonal variance. Additionally, time series data can be used for forecasting/predicting future data based on historical data."
   ]
  },
  {
   "cell_type": "markdown",
   "id": "1c6089d5",
   "metadata": {},
   "source": [
    "<center><u><h4>Import Python Packages</h4></u></center>"
   ]
  },
  {
   "cell_type": "code",
   "execution_count": 7,
   "id": "2ecaf182",
   "metadata": {},
   "outputs": [],
   "source": [
    "from statsmodels.graphics.tsaplots import plot_pacf\n",
    "from statsmodels.graphics.tsaplots import plot_acf\n",
    "from statsmodels.tsa.statespace.sarimax import SARIMAX\n",
    "from statsmodels.tsa.holtwinters import ExponentialSmoothing\n",
    "from statsmodels.tsa.stattools import adfuller\n",
    "from sklearn import preprocessing\n",
    "import matplotlib.pyplot as plt\n",
    "from tqdm import tqdm_notebook\n",
    "import numpy as np\n",
    "import pandas as pd\n",
    "from itertools import product\n",
    "import warnings\n",
    "warnings.filterwarnings('ignore')\n",
    "%matplotlib inline"
   ]
  },
  {
   "cell_type": "markdown",
   "id": "536706bd",
   "metadata": {},
   "source": [
    "<ul>\n",
    "    <li><b>Explanation</b>: This step imports the packages required to load the existing code. It also facilitates the cleaning and preperation steps of the analysis process</li>\n",
    "    <li><b>Justification</b>: Utilizing the existing packages and modules removes the requirement of having to manually code similar functions to facilitate the common step of data preperation.</li>\n",
    "    <li><b>Advantage</b>: This step saves a significant amount of time and utilizes existing trial and error by the Python Package developer to ensure as many issues as possible have already been resolved.</li>\n",
    "    <li><b>Disadvantage</b>: There can be a slight learning curve in having to learn what exists within the existing packages to ensure the functionality is properly utilized.</li>\n",
    "</ul>"
   ]
  },
  {
   "cell_type": "markdown",
   "id": "8a2097ed",
   "metadata": {},
   "source": [
    "<center><u><h4>Read in the existing data</h4></u></center>"
   ]
  },
  {
   "cell_type": "code",
   "execution_count": 8,
   "id": "b1bb3a72",
   "metadata": {},
   "outputs": [],
   "source": [
    "CSCO = pd.read_csv(\"Datasets/CSCO.csv\")\n",
    "ADBE = pd.read_csv(\"Datasets/ADBE.csv\")\n",
    "ORCL = pd.read_csv(\"Datasets/ORCL.csv\")\n",
    "AMZN = pd.read_csv(\"Datasets/AMZN.csv\")\n",
    "INTC = pd.read_csv(\"Datasets/INTC.csv\")\n",
    "MSFT = pd.read_csv(\"Datasets/MSFT.csv\")\n",
    "NVDA = pd.read_csv(\"Datasets/NVDA.csv\")\n",
    "IBM = pd.read_csv(\"Datasets/IBM.csv\")\n",
    "NFLX = pd.read_csv(\"Datasets/NFLX.csv\")\n",
    "GOOGL = pd.read_csv(\"Datasets/GOOGL.csv\")\n",
    "AAPL = pd.read_csv(\"Datasets/AAPL.csv\")\n",
    "CRM = pd.read_csv(\"Datasets/CRM.csv\")"
   ]
  },
  {
   "cell_type": "code",
   "execution_count": 9,
   "id": "dcf6540d",
   "metadata": {},
   "outputs": [],
   "source": [
    "AAPL['Symbol'] = \"AAPL\"\n",
    "ADBE['Symbol'] = \"ADBE\"\n",
    "ORCL['Symbol'] = \"ORCL\"\n",
    "AMZN['Symbol'] = \"AMZN\"\n",
    "INTC['Symbol'] = \"INTC\"\n",
    "MSFT['Symbol'] = \"MSFT\"\n",
    "NVDA['Symbol'] = \"NVDA\"\n",
    "IBM['Symbol'] = \"IBM\"\n",
    "NFLX['Symbol'] = \"NFLX\"\n",
    "GOOGL['Symbol'] = \"GOOGL\"\n",
    "CRM['Symbol'] = \"CRM\""
   ]
  },
  {
   "cell_type": "markdown",
   "id": "84f5bf08",
   "metadata": {},
   "source": [
    "<ul>\n",
    "    <li><b>Explanation</b>: </li>\n",
    "    <li><b>Justification</b>: </li>\n",
    "    <li><b>Advantage</b>: </li>\n",
    "    <li><b>Disadvantage</b>: </li>\n",
    "</ul>"
   ]
  },
  {
   "cell_type": "markdown",
   "id": "0e29827b",
   "metadata": {},
   "source": [
    "<center><u><h4>Join the DataFrames together using a common key</h4></u></center>"
   ]
  },
  {
   "cell_type": "code",
   "execution_count": 10,
   "id": "d234996c",
   "metadata": {},
   "outputs": [],
   "source": [
    "df = pd.concat([AAPL, ADBE, ORCL, AMZN, INTC, MSFT, NVDA, IBM, NFLX, TSLA, GOOGL, META, CRM], axis=0)\n",
    "df = df.sort_values(by=['Date'])"
   ]
  },
  {
   "cell_type": "code",
   "execution_count": 11,
   "id": "31e35b81",
   "metadata": {},
   "outputs": [
    {
     "data": {
      "text/html": [
       "<div>\n",
       "<style scoped>\n",
       "    .dataframe tbody tr th:only-of-type {\n",
       "        vertical-align: middle;\n",
       "    }\n",
       "\n",
       "    .dataframe tbody tr th {\n",
       "        vertical-align: top;\n",
       "    }\n",
       "\n",
       "    .dataframe thead th {\n",
       "        text-align: right;\n",
       "    }\n",
       "</style>\n",
       "<table border=\"1\" class=\"dataframe\">\n",
       "  <thead>\n",
       "    <tr style=\"text-align: right;\">\n",
       "      <th></th>\n",
       "      <th>Date</th>\n",
       "      <th>Symbol</th>\n",
       "      <th>Open</th>\n",
       "      <th>High</th>\n",
       "      <th>Low</th>\n",
       "      <th>Close</th>\n",
       "      <th>Adj Close</th>\n",
       "      <th>Volume</th>\n",
       "    </tr>\n",
       "  </thead>\n",
       "  <tbody>\n",
       "    <tr>\n",
       "      <th>0</th>\n",
       "      <td>2010-01-04</td>\n",
       "      <td>AAPL</td>\n",
       "      <td>7.6225</td>\n",
       "      <td>7.660714</td>\n",
       "      <td>7.5850</td>\n",
       "      <td>7.643214</td>\n",
       "      <td>6.515213</td>\n",
       "      <td>493729600</td>\n",
       "    </tr>\n",
       "    <tr>\n",
       "      <th>0</th>\n",
       "      <td>2010-01-04</td>\n",
       "      <td>NVDA</td>\n",
       "      <td>4.6275</td>\n",
       "      <td>4.655000</td>\n",
       "      <td>4.5275</td>\n",
       "      <td>4.622500</td>\n",
       "      <td>4.242311</td>\n",
       "      <td>80020400</td>\n",
       "    </tr>\n",
       "  </tbody>\n",
       "</table>\n",
       "</div>"
      ],
      "text/plain": [
       "         Date Symbol    Open      High     Low     Close  Adj Close     Volume\n",
       "0  2010-01-04   AAPL  7.6225  7.660714  7.5850  7.643214   6.515213  493729600\n",
       "0  2010-01-04   NVDA  4.6275  4.655000  4.5275  4.622500   4.242311   80020400"
      ]
     },
     "execution_count": 11,
     "metadata": {},
     "output_type": "execute_result"
    }
   ],
   "source": [
    "df = df.reindex(columns=[\"Date\", \"Symbol\", \"Open\", \"High\", \"Low\", \"Close\", \"Adj Close\", \"Volume\"])\n",
    "df.head(2)"
   ]
  },
  {
   "cell_type": "code",
   "execution_count": 12,
   "id": "a3cea7b1",
   "metadata": {},
   "outputs": [],
   "source": [
    "df.to_csv('df.csv')"
   ]
  },
  {
   "cell_type": "markdown",
   "id": "c40f81f6",
   "metadata": {},
   "source": [
    "<ul>\n",
    "    <li><b>Explanation</b>: </li>\n",
    "    <li><b>Justification</b>: </li>\n",
    "    <li><b>Advantage</b>: </li>\n",
    "    <li><b>Disadvantage</b>: </li>\n",
    "</ul>"
   ]
  },
  {
   "cell_type": "markdown",
   "id": "9e10aeca",
   "metadata": {},
   "source": [
    "<center><u><h4>Review the datatypes contained within DataFrame</h4></u></center>"
   ]
  },
  {
   "cell_type": "code",
   "execution_count": 7,
   "id": "ae5f2b3f",
   "metadata": {},
   "outputs": [
    {
     "name": "stdout",
     "output_type": "stream",
     "text": [
      "<class 'pandas.core.frame.DataFrame'>\n",
      "Int64Index: 41817 entries, 0 to 2687\n",
      "Data columns (total 8 columns):\n",
      " #   Column     Non-Null Count  Dtype  \n",
      "---  ------     --------------  -----  \n",
      " 0   Date       41817 non-null  object \n",
      " 1   Symbol     41817 non-null  object \n",
      " 2   Open       41817 non-null  float64\n",
      " 3   High       41817 non-null  float64\n",
      " 4   Low        41817 non-null  float64\n",
      " 5   Close      41817 non-null  float64\n",
      " 6   Adj Close  41817 non-null  float64\n",
      " 7   Volume     41817 non-null  int64  \n",
      "dtypes: float64(5), int64(1), object(2)\n",
      "memory usage: 2.9+ MB\n"
     ]
    }
   ],
   "source": [
    "df.info()"
   ]
  },
  {
   "cell_type": "markdown",
   "id": "c1eb33cf",
   "metadata": {},
   "source": [
    "<ul>\n",
    "    <li><b>Explanation</b>: </li>\n",
    "    <li><b>Justification</b>: </li>\n",
    "    <li><b>Advantage</b>: </li>\n",
    "    <li><b>Disadvantage</b>: </li>\n",
    "</ul>"
   ]
  },
  {
   "cell_type": "markdown",
   "id": "15cfd05c",
   "metadata": {},
   "source": [
    "<center><u><h4>Review value counts to ensure no missing values</h4></u></center>"
   ]
  },
  {
   "cell_type": "code",
   "execution_count": 8,
   "id": "e80c4dc8",
   "metadata": {},
   "outputs": [
    {
     "name": "stdout",
     "output_type": "stream",
     "text": [
      "Date Column Values 41817\n",
      "Symbol Column Values 41817\n",
      "Open Column Values 41817\n",
      "High Column Values 41817\n",
      "Low Column Values 41817\n",
      "Close Column Values 41817\n",
      "Adj Close Column Values 41817\n",
      "Volume Column Values 41817\n"
     ]
    }
   ],
   "source": [
    "print(\"Date Column Values\", df['Date'].value_counts().sum())\n",
    "print(\"Symbol Column Values\", df['Symbol'].value_counts().sum())\n",
    "print(\"Open Column Values\", df['Open'].value_counts().sum())\n",
    "print(\"High Column Values\", df['High'].value_counts().sum())\n",
    "print(\"Low Column Values\", df['Low'].value_counts().sum())\n",
    "print(\"Close Column Values\", df['Close'].value_counts().sum())\n",
    "print(\"Adj Close Column Values\", df['Adj Close'].value_counts().sum())\n",
    "print(\"Volume Column Values\", df['Volume'].value_counts().sum())"
   ]
  },
  {
   "cell_type": "markdown",
   "id": "1461c515",
   "metadata": {},
   "source": [
    "<ul>\n",
    "    <li><b>Explanation</b>: </li>\n",
    "    <li><b>Justification</b>: </li>\n",
    "    <li><b>Advantage</b>: </li>\n",
    "    <li><b>Disadvantage</b>: </li>\n",
    "</ul>"
   ]
  },
  {
   "cell_type": "markdown",
   "id": "e9a4f7e5",
   "metadata": {},
   "source": [
    "<center><u><h4>Review a statistical summary of each variable and plot the distribution</h4></u></center>"
   ]
  },
  {
   "cell_type": "code",
   "execution_count": 9,
   "id": "3f6485eb",
   "metadata": {
    "scrolled": true
   },
   "outputs": [
    {
     "data": {
      "text/html": [
       "<div>\n",
       "<style scoped>\n",
       "    .dataframe tbody tr th:only-of-type {\n",
       "        vertical-align: middle;\n",
       "    }\n",
       "\n",
       "    .dataframe tbody tr th {\n",
       "        vertical-align: top;\n",
       "    }\n",
       "\n",
       "    .dataframe thead th {\n",
       "        text-align: right;\n",
       "    }\n",
       "</style>\n",
       "<table border=\"1\" class=\"dataframe\">\n",
       "  <thead>\n",
       "    <tr style=\"text-align: right;\">\n",
       "      <th></th>\n",
       "      <th>Open</th>\n",
       "      <th>High</th>\n",
       "      <th>Low</th>\n",
       "      <th>Close</th>\n",
       "      <th>Adj Close</th>\n",
       "      <th>Volume</th>\n",
       "    </tr>\n",
       "  </thead>\n",
       "  <tbody>\n",
       "    <tr>\n",
       "      <th>count</th>\n",
       "      <td>41817.000000</td>\n",
       "      <td>41817.000000</td>\n",
       "      <td>41817.000000</td>\n",
       "      <td>41817.000000</td>\n",
       "      <td>41817.000000</td>\n",
       "      <td>4.181700e+04</td>\n",
       "    </tr>\n",
       "    <tr>\n",
       "      <th>mean</th>\n",
       "      <td>93.629224</td>\n",
       "      <td>94.794504</td>\n",
       "      <td>92.408277</td>\n",
       "      <td>93.633660</td>\n",
       "      <td>89.635823</td>\n",
       "      <td>5.456459e+07</td>\n",
       "    </tr>\n",
       "    <tr>\n",
       "      <th>std</th>\n",
       "      <td>104.216496</td>\n",
       "      <td>105.624383</td>\n",
       "      <td>102.676037</td>\n",
       "      <td>104.180845</td>\n",
       "      <td>103.506444</td>\n",
       "      <td>9.637860e+07</td>\n",
       "    </tr>\n",
       "    <tr>\n",
       "      <th>min</th>\n",
       "      <td>1.076000</td>\n",
       "      <td>1.108667</td>\n",
       "      <td>0.998667</td>\n",
       "      <td>1.053333</td>\n",
       "      <td>1.053333</td>\n",
       "      <td>5.892000e+05</td>\n",
       "    </tr>\n",
       "    <tr>\n",
       "      <th>25%</th>\n",
       "      <td>26.320000</td>\n",
       "      <td>26.629999</td>\n",
       "      <td>25.995714</td>\n",
       "      <td>26.305000</td>\n",
       "      <td>23.390303</td>\n",
       "      <td>8.519300e+06</td>\n",
       "    </tr>\n",
       "    <tr>\n",
       "      <th>50%</th>\n",
       "      <td>51.500000</td>\n",
       "      <td>52.139999</td>\n",
       "      <td>50.915001</td>\n",
       "      <td>51.572498</td>\n",
       "      <td>49.169998</td>\n",
       "      <td>2.662780e+07</td>\n",
       "    </tr>\n",
       "    <tr>\n",
       "      <th>75%</th>\n",
       "      <td>135.559998</td>\n",
       "      <td>136.892929</td>\n",
       "      <td>133.957932</td>\n",
       "      <td>135.449326</td>\n",
       "      <td>119.370003</td>\n",
       "      <td>6.117400e+07</td>\n",
       "    </tr>\n",
       "    <tr>\n",
       "      <th>max</th>\n",
       "      <td>696.280029</td>\n",
       "      <td>700.989990</td>\n",
       "      <td>686.090027</td>\n",
       "      <td>691.690002</td>\n",
       "      <td>691.690002</td>\n",
       "      <td>1.880998e+09</td>\n",
       "    </tr>\n",
       "  </tbody>\n",
       "</table>\n",
       "</div>"
      ],
      "text/plain": [
       "               Open          High           Low         Close     Adj Close  \\\n",
       "count  41817.000000  41817.000000  41817.000000  41817.000000  41817.000000   \n",
       "mean      93.629224     94.794504     92.408277     93.633660     89.635823   \n",
       "std      104.216496    105.624383    102.676037    104.180845    103.506444   \n",
       "min        1.076000      1.108667      0.998667      1.053333      1.053333   \n",
       "25%       26.320000     26.629999     25.995714     26.305000     23.390303   \n",
       "50%       51.500000     52.139999     50.915001     51.572498     49.169998   \n",
       "75%      135.559998    136.892929    133.957932    135.449326    119.370003   \n",
       "max      696.280029    700.989990    686.090027    691.690002    691.690002   \n",
       "\n",
       "             Volume  \n",
       "count  4.181700e+04  \n",
       "mean   5.456459e+07  \n",
       "std    9.637860e+07  \n",
       "min    5.892000e+05  \n",
       "25%    8.519300e+06  \n",
       "50%    2.662780e+07  \n",
       "75%    6.117400e+07  \n",
       "max    1.880998e+09  "
      ]
     },
     "execution_count": 9,
     "metadata": {},
     "output_type": "execute_result"
    }
   ],
   "source": [
    "df.describe()"
   ]
  },
  {
   "cell_type": "code",
   "execution_count": 10,
   "id": "1d2da7e4",
   "metadata": {
    "scrolled": true
   },
   "outputs": [
    {
     "name": "stdout",
     "output_type": "stream",
     "text": [
      "AxesSubplot(0.125,0.11;0.775x0.77)\n"
     ]
    },
    {
     "data": {
      "image/png": "[encoded data removed]",
      "text/plain": [
       "<Figure size 640x480 with 1 Axes>"
      ]
     },
     "metadata": {},
     "output_type": "display_data"
    }
   ],
   "source": [
    "print(df.boxplot(column=['Open']))"
   ]
  },
  {
   "cell_type": "code",
   "execution_count": 11,
   "id": "0c433977",
   "metadata": {
    "scrolled": true
   },
   "outputs": [
    {
     "name": "stdout",
     "output_type": "stream",
     "text": [
      "AxesSubplot(0.125,0.11;0.775x0.77)\n"
     ]
    },
    {
     "data": {
      "image/png": "[encoded data removed]",
      "text/plain": [
       "<Figure size 640x480 with 1 Axes>"
      ]
     },
     "metadata": {},
     "output_type": "display_data"
    }
   ],
   "source": [
    "print(df.boxplot(column=['Close']))"
   ]
  },
  {
   "cell_type": "code",
   "execution_count": 12,
   "id": "4ffd7f54",
   "metadata": {},
   "outputs": [
    {
     "name": "stdout",
     "output_type": "stream",
     "text": [
      "AxesSubplot(0.125,0.11;0.775x0.77)\n"
     ]
    },
    {
     "data": {
      "image/png": "[encoded data removed]",
      "text/plain": [
       "<Figure size 640x480 with 1 Axes>"
      ]
     },
     "metadata": {},
     "output_type": "display_data"
    }
   ],
   "source": [
    "print(df.boxplot(column=['Volume']))"
   ]
  },
  {
   "cell_type": "code",
   "execution_count": null,
   "id": "257ab245",
   "metadata": {},
   "outputs": [],
   "source": []
  },
  {
   "cell_type": "markdown",
   "id": "83e1e733",
   "metadata": {},
   "source": [
    "<ul>\n",
    "    <li><b>Explanation</b>: </li>\n",
    "    <li><b>Justification</b>: </li>\n",
    "    <li><b>Advantage</b>: </li>\n",
    "    <li><b>Disadvantage</b>: </li>\n",
    "</ul>"
   ]
  },
  {
   "cell_type": "markdown",
   "id": "6fae724e",
   "metadata": {},
   "source": [
    "<center><u><h4>Check for null values</h4></u></center>"
   ]
  },
  {
   "cell_type": "code",
   "execution_count": 13,
   "id": "63eb5492",
   "metadata": {},
   "outputs": [
    {
     "data": {
      "text/plain": [
       "Date         0\n",
       "Symbol       0\n",
       "Open         0\n",
       "High         0\n",
       "Low          0\n",
       "Close        0\n",
       "Adj Close    0\n",
       "Volume       0\n",
       "dtype: int64"
      ]
     },
     "execution_count": 13,
     "metadata": {},
     "output_type": "execute_result"
    }
   ],
   "source": [
    "df.isnull().sum()"
   ]
  },
  {
   "cell_type": "markdown",
   "id": "7991dbdc",
   "metadata": {},
   "source": [
    "<ul>\n",
    "    <li><b>Explanation</b>: </li>\n",
    "    <li><b>Justification</b>: </li>\n",
    "    <li><b>Advantage</b>: </li>\n",
    "    <li><b>Disadvantage</b>: </li>\n",
    "</ul>"
   ]
  },
  {
   "cell_type": "markdown",
   "id": "4b486243",
   "metadata": {},
   "source": [
    "<center><u><h4>Create a single target variable for Stock Closing Price</h4></u></center>"
   ]
  },
  {
   "cell_type": "code",
   "execution_count": 14,
   "id": "3f6df916",
   "metadata": {},
   "outputs": [
    {
     "data": {
      "text/plain": [
       "Date         0\n",
       "Symbol       0\n",
       "Open         0\n",
       "High         0\n",
       "Low          0\n",
       "Close        0\n",
       "Adj Close    0\n",
       "Volume       0\n",
       "dtype: int64"
      ]
     },
     "execution_count": 14,
     "metadata": {},
     "output_type": "execute_result"
    }
   ],
   "source": [
    "df.isnull().sum()"
   ]
  },
  {
   "cell_type": "markdown",
   "id": "2d14517e",
   "metadata": {},
   "source": [
    "<ul>\n",
    "    <li><b>Explanation</b>: </li>\n",
    "    <li><b>Justification</b>: </li>\n",
    "    <li><b>Advantage</b>: </li>\n",
    "    <li><b>Disadvantage</b>: </li>\n",
    "</ul>"
   ]
  },
  {
   "cell_type": "markdown",
   "id": "7e2a5209",
   "metadata": {},
   "source": [
    "<center><h4>Tools & Techniques</h4></center>"
   ]
  },
  {
   "cell_type": "markdown",
   "id": "84ebaee3",
   "metadata": {},
   "source": [
    "The tools and techniques used for this analysis are as follows:"
   ]
  },
  {
   "cell_type": "markdown",
   "id": "359d9387",
   "metadata": {},
   "source": [
    "<center><h4>Tool and Technique Justification </h4></center>"
   ]
  },
  {
   "cell_type": "markdown",
   "id": "33a50826",
   "metadata": {},
   "source": [
    "The justification for the utilizedtools and techniques are as follows:"
   ]
  },
  {
   "cell_type": "markdown",
   "id": "8e9adbdb",
   "metadata": {},
   "source": [
    "<center><h4>Tools and Techniques Advantages</h4></center>"
   ]
  },
  {
   "cell_type": "markdown",
   "id": "c19e353b",
   "metadata": {},
   "source": [
    "The advantages of the utilizedtools and techniques are as follows:"
   ]
  },
  {
   "cell_type": "markdown",
   "id": "504600e9",
   "metadata": {},
   "source": [
    "<center><h4>Tools and Techniques Disadvantages</h4></center>"
   ]
  },
  {
   "cell_type": "markdown",
   "id": "4d5c394e",
   "metadata": {},
   "source": [
    "The disadvantages of the utilizedtools and techniques are as follows:"
   ]
  },
  {
   "cell_type": "markdown",
   "id": "a0436fef",
   "metadata": {},
   "source": [
    "<center><h2>Analysis</h2></center>"
   ]
  },
  {
   "cell_type": "markdown",
   "id": "867ff444",
   "metadata": {},
   "source": [
    "<h3>D.  Report on your data-analysis process by describing the analysis technique(s) you used to appropriately analyze the data. Include the calculations you performed and their outputs. Justify how you selected the analysis technique(s) you used, including one advantage and one disadvantage of these technique(s).</h3>"
   ]
  },
  {
   "cell_type": "markdown",
   "id": "1a9302e4",
   "metadata": {},
   "source": [
    "<center><h4>Description of Analysis Techniques</h4></center>"
   ]
  },
  {
   "cell_type": "markdown",
   "id": "78203cd5",
   "metadata": {},
   "source": [
    "The specific analysis techniques used for this analysis are as follows:"
   ]
  },
  {
   "cell_type": "markdown",
   "id": "225ee02c",
   "metadata": {},
   "source": [
    "<center><h4>Calculations Performed</h4></center>"
   ]
  },
  {
   "cell_type": "markdown",
   "id": "63caf94b",
   "metadata": {},
   "source": [
    "The calculations performed for this analysis are as follows:"
   ]
  },
  {
   "cell_type": "markdown",
   "id": "2a870ff1",
   "metadata": {},
   "source": [
    "<center><h4>Analysis Technique Justification</h4></center>"
   ]
  },
  {
   "cell_type": "markdown",
   "id": "6f9e500f",
   "metadata": {},
   "source": [
    "The justification for the utilized analysis technique is as follows:"
   ]
  },
  {
   "cell_type": "markdown",
   "id": "85bf3a45",
   "metadata": {},
   "source": [
    "<center><h4>Analysis Technique Advantages</h4></center>"
   ]
  },
  {
   "cell_type": "markdown",
   "id": "edae60f5",
   "metadata": {},
   "source": [
    "The advantages of the utilized analysis technique is as follows:"
   ]
  },
  {
   "cell_type": "markdown",
   "id": "fbf64038",
   "metadata": {},
   "source": [
    "<center><h4><center><h4>Analysis Technique Disdvantages</h4></center></h4></center>"
   ]
  },
  {
   "cell_type": "markdown",
   "id": "d011c2c6",
   "metadata": {},
   "source": [
    "The disadvantages of the utilized analysis technique is as follows:"
   ]
  },
  {
   "cell_type": "markdown",
   "id": "b0594d15",
   "metadata": {},
   "source": [
    "<center><h2>Data Summary and Implications</h2></center>"
   ]
  },
  {
   "cell_type": "markdown",
   "id": "57065f89",
   "metadata": {},
   "source": [
    "<h3>E.  Summarize the implications of your data analysis by discussing the results of your data analysis in the context of the research question, including one limitation of your analysis. Within the context of your research question, recommend a course of action based on your results. Then propose two directions or approaches for future study of the data set.</h3>"
   ]
  },
  {
   "cell_type": "markdown",
   "id": "30b11540",
   "metadata": {},
   "source": [
    "<center><h4>Data Analysis Implications</h4></center>"
   ]
  },
  {
   "cell_type": "markdown",
   "id": "a859c3a7",
   "metadata": {},
   "source": [
    "The implications of the performed analysis technique are as follows:"
   ]
  },
  {
   "cell_type": "markdown",
   "id": "780475b3",
   "metadata": {},
   "source": [
    "<center><h4>Data Analysis Results</h4></center>"
   ]
  },
  {
   "cell_type": "markdown",
   "id": "d09a635d",
   "metadata": {},
   "source": [
    "The results of the performed analysis technique are as follows:"
   ]
  },
  {
   "cell_type": "markdown",
   "id": "64a09351",
   "metadata": {},
   "source": [
    "<center><h4>Data Analysis Limitations</h4></center>"
   ]
  },
  {
   "cell_type": "markdown",
   "id": "8c6b0d76",
   "metadata": {},
   "source": [
    "The limitations of the performed analysis technique are as follows:"
   ]
  },
  {
   "cell_type": "markdown",
   "id": "6cd39bac",
   "metadata": {},
   "source": [
    "<center><h4>Recommended Course of Action</h4></center>"
   ]
  },
  {
   "cell_type": "markdown",
   "id": "7dda5c5d",
   "metadata": {},
   "source": [
    "The recommended course of action based upon the completed analysis is as follows:"
   ]
  },
  {
   "cell_type": "markdown",
   "id": "1f256609",
   "metadata": {},
   "source": [
    "<center><h4>Future Data Study Directions</h4></center>\n",
    "\n",
    "<ol>\n",
    "    <li></li>\n",
    "    <li></li>\n",
    "</ol>"
   ]
  },
  {
   "cell_type": "markdown",
   "id": "b6e1b3ef",
   "metadata": {},
   "source": [
    "<h3>F.  Acknowledge sources, using in-text citations and references, for content that is quoted.</h3>\n",
    "\n",
    "<ul>\n",
    "<li>Creative Commons License Deed. Creative Commons - Attribution-NonCommercial-ShareAlike 4.0 International - CC BY-NC-SA 4.0. (n.d.). Retrieved February 23, 2023, fromhttps://creativecommons.org/licenses/by-nc-sa/4.0/ </li>\n",
    "<li>Gower, E. (2023, January 30). Big Tech Stock prices. Kaggle. Retrieved February 23, 2023, fromhttps://www.kaggle.com/datasets/evangower/big-tech-stock-prices </li>\n",
    "<li>Time series analysis: Definition, types, techniques, and when it's used. Tableau. (n.d.). Retrieved February 23, 2023, from https://www.tableau.com/learn/articles/time-series-analysis#definition </li>\n",
    "<li>Li, S. (2018, September 5). An end-to-end project on time series analysis and forecasting with python. Medium. Retrieved February 23, 2023, from https://towardsdatascience.com/an-end-to-end-project-on-time-series-analysis-and-forecasting-with-python-4835e6bf050b </li>\n",
    "<li>Stephen Allwright. (2022, December 6). What is a good MAPE score? (simply explained). Stephen Allwright. Retrieved February 24, 2023, from https://stephenallwright.com/good-mape-score/ </li>\n",
    "</ul>"
   ]
  },
  {
   "cell_type": "code",
   "execution_count": null,
   "id": "c8682d62",
   "metadata": {},
   "outputs": [],
   "source": []
  }
 ],
 "metadata": {
  "kernelspec": {
   "display_name": "Python 3 (ipykernel)",
   "language": "python",
   "name": "python3"
  },
  "language_info": {
   "codemirror_mode": {
    "name": "ipython",
    "version": 3
   },
   "file_extension": ".py",
   "mimetype": "text/x-python",
   "name": "python",
   "nbconvert_exporter": "python",
   "pygments_lexer": "ipython3",
   "version": "3.8.10"
  }
 },
 "nbformat": 4,
 "nbformat_minor": 5
}
